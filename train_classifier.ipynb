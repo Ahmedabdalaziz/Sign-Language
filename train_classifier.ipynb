{
 "cells": [
  {
   "metadata": {
    "ExecuteTime": {
     "end_time": "2024-05-13T22:43:43.171719Z",
     "start_time": "2024-05-13T22:43:39.815276Z"
    }
   },
   "cell_type": "code",
   "source": [
    "import pickle\n",
    "from tensorflow.keras.models import Sequential\n",
    "from tensorflow.keras.layers import Dense, Conv2D, MaxPooling2D, Flatten\n",
    "from tensorflow.keras.optimizers import Adam\n",
    "from tensorflow.keras.losses import categorical_crossentropy\n",
    "from sklearn.model_selection import train_test_split\n",
    "\n",
    "data_dict = pickle.load(open('data.pkl', 'rb'))\n",
    "data = data_dict['data']  # Features (landmark coordinates)\n",
    "labels = data_dict['labels']  # Class labels\n",
    "\n",
    "number_classes = 3  \n",
    "\n"
   ],
   "id": "e4a11f9835abeecd",
   "outputs": [],
   "execution_count": 1
  },
  {
   "metadata": {
    "ExecuteTime": {
     "end_time": "2024-05-13T22:43:43.187181Z",
     "start_time": "2024-05-13T22:43:43.175683Z"
    }
   },
   "cell_type": "code",
   "source": [
    "\n",
    "x_train, x_test, y_train, y_test = train_test_split(data, labels, test_size=0.2)\n"
   ],
   "id": "5e17b0813f0e7ce4",
   "outputs": [],
   "execution_count": 2
  },
  {
   "metadata": {
    "ExecuteTime": {
     "end_time": "2024-05-13T22:43:44.406925Z",
     "start_time": "2024-05-13T22:43:43.190161Z"
    }
   },
   "cell_type": "code",
   "source": [
    "# Normalize data to have values between 0 and 1\n",
    "x_train = x_train / 255.0\n",
    "x_test = x_test / 255.0\n"
   ],
   "id": "8a2dfd9a716f5dda",
   "outputs": [
    {
     "ename": "TypeError",
     "evalue": "unsupported operand type(s) for /: 'list' and 'float'",
     "output_type": "error",
     "traceback": [
      "\u001B[1;31m---------------------------------------------------------------------------\u001B[0m",
      "\u001B[1;31mTypeError\u001B[0m                                 Traceback (most recent call last)",
      "Cell \u001B[1;32mIn[3], line 2\u001B[0m\n\u001B[0;32m      1\u001B[0m \u001B[38;5;66;03m# Normalize data to have values between 0 and 1\u001B[39;00m\n\u001B[1;32m----> 2\u001B[0m x_train \u001B[38;5;241m=\u001B[39m \u001B[43mx_train\u001B[49m\u001B[43m \u001B[49m\u001B[38;5;241;43m/\u001B[39;49m\u001B[43m \u001B[49m\u001B[38;5;241;43m255.0\u001B[39;49m\n\u001B[0;32m      3\u001B[0m x_test \u001B[38;5;241m=\u001B[39m x_test \u001B[38;5;241m/\u001B[39m \u001B[38;5;241m255.0\u001B[39m\n",
      "\u001B[1;31mTypeError\u001B[0m: unsupported operand type(s) for /: 'list' and 'float'"
     ]
    }
   ],
   "execution_count": 3
  },
  {
   "metadata": {
    "ExecuteTime": {
     "end_time": "2024-05-13T22:43:44.411896Z",
     "start_time": "2024-05-13T22:43:44.410898Z"
    }
   },
   "cell_type": "code",
   "source": [
    "# Define a sequential model\n",
    "model = Sequential()\n",
    "\n",
    "# Add convolutional layers\n",
    "model.add(Conv2D(32, (3, 3), activation='relu', input_shape=(64, 64, 1)))\n",
    "model.add(MaxPooling2D((2, 2)))\n",
    "model.add(Conv2D(64, (3, 3), activation='relu'))\n",
    "model.add(MaxPooling2D((2, 2)))\n",
    "\n",
    "# Flatten the output of the convolutional layers\n",
    "model.add(Flatten())\n",
    "\n",
    "# Add fully connected layers\n",
    "model.add(Dense(128, activation='relu'))\n",
    "model.add(Dense(number_classes, activation='softmax'))\n",
    "\n",
    "# Compile the model\n",
    "model.compile(optimizer=Adam(learning_rate=0.001),\n",
    "              loss=categorical_crossentropy,\n",
    "              metrics=['accuracy'])\n"
   ],
   "id": "7657a40caccfbfe6",
   "outputs": [],
   "execution_count": null
  },
  {
   "metadata": {
    "ExecuteTime": {
     "end_time": "2024-05-13T22:43:44.414887Z",
     "start_time": "2024-05-13T22:43:44.414887Z"
    }
   },
   "cell_type": "code",
   "source": [
    "# Train the model on the training data\n",
    "model.fit(x_train, y_train, epochs=10, batch_size=32)\n"
   ],
   "id": "c9615c21e92a2d7d",
   "outputs": [],
   "execution_count": null
  },
  {
   "metadata": {},
   "cell_type": "code",
   "source": [
    "# Save the trained model\n",
    "model.save('hand_gesture_model.h5')"
   ],
   "id": "8230de93b8e776d7",
   "outputs": [],
   "execution_count": null
  }
 ],
 "metadata": {
  "kernelspec": {
   "display_name": "Python 3",
   "language": "python",
   "name": "python3"
  },
  "language_info": {
   "codemirror_mode": {
    "name": "ipython",
    "version": 2
   },
   "file_extension": ".py",
   "mimetype": "text/x-python",
   "name": "python",
   "nbconvert_exporter": "python",
   "pygments_lexer": "ipython2",
   "version": "2.7.6"
  }
 },
 "nbformat": 4,
 "nbformat_minor": 5
}
