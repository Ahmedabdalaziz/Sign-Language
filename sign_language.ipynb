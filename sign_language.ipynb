{
 "cells": [
  {
   "cell_type": "code",
   "id": "initial_id",
   "metadata": {
    "collapsed": true,
    "ExecuteTime": {
     "end_time": "2024-05-11T21:21:04.795448Z",
     "start_time": "2024-05-11T21:20:58.609569Z"
    }
   },
   "source": [
    "import os\n",
    "import cv2\n",
    "\n",
    "DATA_DIR = './data'\n",
    "if not os.path.exists(DATA_DIR):\n",
    "    os.makedirs(DATA_DIR)\n",
    "    \n",
    "number_classes = 3 \n",
    "dataset_size =100\n",
    "cap = cv2.VideoCapture(0)\n",
    "for i in range(number_classes):\n",
    "    if not os.path.exists(os.path.join(DATA_DIR,str(i))):\n",
    "        os.makedirs(os.path.join(DATA_DIR, str(i)))\n",
    "        \n",
    "    print('Collecting data for class '.format(i))\n",
    "    done = False\n",
    "    while True:\n",
    "        ret , frame = cap.read()\n",
    "        cv2.putText(frame,'Ready ? Press Q :' ,(100,50) ,cv2.FONT_HERSHEY_PLAIN ,1.3,(0,255,0),3,cv2.LINE_AA)\n",
    "        cv2.imshow('frame',frame)\n",
    "        if cv2.waitKey(1) == ord('q'):\n",
    "            break\n",
    "            \n",
    "    counter =0\n",
    "    while counter < dataset_size:\n",
    "        ret ,frame  = cap.read()\n",
    "        cv2.imshow('frame',frame)\n",
    "        cv2.waitKey(1)\n",
    "        cv2.imwrite(os.path.join(DATA_DIR, str(i) ,'{}.jpg'.format(counter)),frame)\n",
    "        counter +=1\n",
    "cap.release()\n",
    "cv2.destroyAllWindows()"
   ],
   "outputs": [
    {
     "name": "stdout",
     "output_type": "stream",
     "text": [
      "Collecting data for class \n"
     ]
    },
    {
     "ename": "KeyboardInterrupt",
     "evalue": "",
     "output_type": "error",
     "traceback": [
      "\u001B[1;31m---------------------------------------------------------------------------\u001B[0m",
      "\u001B[1;31mKeyboardInterrupt\u001B[0m                         Traceback (most recent call last)",
      "Cell \u001B[1;32mIn[3], line 18\u001B[0m\n\u001B[0;32m     16\u001B[0m done \u001B[38;5;241m=\u001B[39m \u001B[38;5;28;01mFalse\u001B[39;00m\n\u001B[0;32m     17\u001B[0m \u001B[38;5;28;01mwhile\u001B[39;00m \u001B[38;5;28;01mTrue\u001B[39;00m:\n\u001B[1;32m---> 18\u001B[0m     ret , frame \u001B[38;5;241m=\u001B[39m \u001B[43mcap\u001B[49m\u001B[38;5;241;43m.\u001B[39;49m\u001B[43mread\u001B[49m\u001B[43m(\u001B[49m\u001B[43m)\u001B[49m\n\u001B[0;32m     19\u001B[0m     cv2\u001B[38;5;241m.\u001B[39mputText(frame,\u001B[38;5;124m'\u001B[39m\u001B[38;5;124mReady ? Press Q :\u001B[39m\u001B[38;5;124m'\u001B[39m ,(\u001B[38;5;241m100\u001B[39m,\u001B[38;5;241m50\u001B[39m) ,cv2\u001B[38;5;241m.\u001B[39mFONT_HERSHEY_PLAIN ,\u001B[38;5;241m1.3\u001B[39m,(\u001B[38;5;241m0\u001B[39m,\u001B[38;5;241m255\u001B[39m,\u001B[38;5;241m0\u001B[39m),\u001B[38;5;241m3\u001B[39m,cv2\u001B[38;5;241m.\u001B[39mLINE_AA)\n\u001B[0;32m     20\u001B[0m     cv2\u001B[38;5;241m.\u001B[39mimshow(\u001B[38;5;124m'\u001B[39m\u001B[38;5;124mframe\u001B[39m\u001B[38;5;124m'\u001B[39m,frame)\n",
      "\u001B[1;31mKeyboardInterrupt\u001B[0m: "
     ]
    }
   ],
   "execution_count": 3
  },
  {
   "metadata": {},
   "cell_type": "code",
   "outputs": [],
   "execution_count": null,
   "source": "",
   "id": "3419101cc3454991"
  }
 ],
 "metadata": {
  "kernelspec": {
   "display_name": "Python 3",
   "language": "python",
   "name": "python3"
  },
  "language_info": {
   "codemirror_mode": {
    "name": "ipython",
    "version": 2
   },
   "file_extension": ".py",
   "mimetype": "text/x-python",
   "name": "python",
   "nbconvert_exporter": "python",
   "pygments_lexer": "ipython2",
   "version": "2.7.6"
  }
 },
 "nbformat": 4,
 "nbformat_minor": 5
}
