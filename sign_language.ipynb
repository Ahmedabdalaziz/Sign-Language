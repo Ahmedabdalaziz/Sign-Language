{
 "cells": [
  {
   "cell_type": "code",
   "id": "initial_id",
   "metadata": {
    "collapsed": true,
    "ExecuteTime": {
     "end_time": "2024-05-13T20:06:29.978010Z",
     "start_time": "2024-05-13T20:02:21.513618Z"
    }
   },
   "source": [
    "import os\n",
    "import cv2\n",
    "\n",
    "DATA_DIR = './data'\n",
    "if not os.path.exists(DATA_DIR):\n",
    "    os.makedirs(DATA_DIR)\n",
    "    \n",
    "number_classes = 3 \n",
    "dataset_size =100\n",
    "cap = cv2.VideoCapture(0)\n",
    "for i in range(number_classes):\n",
    "    if not os.path.exists(os.path.join(DATA_DIR,str(i))):\n",
    "        os.makedirs(os.path.join(DATA_DIR, str(i)))\n",
    "        \n",
    "    print('Collecting data for class '.format(i))\n",
    "    done = False\n",
    "    while True:\n",
    "        ret , frame = cap.read()\n",
    "        cv2.putText(frame,'Ready ? Press Q :' ,(100,50) ,cv2.FONT_HERSHEY_PLAIN ,1.3,(0,255,0),3,cv2.LINE_AA)\n",
    "        cv2.imshow('frame',frame)\n",
    "        if cv2.waitKey(1) == ord('q'):\n",
    "            break\n",
    "            \n",
    "    counter =0\n",
    "    while counter < dataset_size:\n",
    "        ret ,frame  = cap.read()\n",
    "        cv2.imshow('frame',frame)\n",
    "        cv2.waitKey(1)\n",
    "        cv2.imwrite(os.path.join(DATA_DIR, str(i) ,'{}.jpg'.format(counter)),frame)\n",
    "        counter +=1\n",
    "cap.release()\n",
    "cv2.destroyAllWindows()"
   ],
   "outputs": [
    {
     "name": "stdout",
     "output_type": "stream",
     "text": [
      "Collecting data for class \n",
      "Collecting data for class \n",
      "Collecting data for class \n"
     ]
    }
   ],
   "execution_count": 1
  }
 ],
 "metadata": {
  "kernelspec": {
   "display_name": "Python 3",
   "language": "python",
   "name": "python3"
  },
  "language_info": {
   "codemirror_mode": {
    "name": "ipython",
    "version": 2
   },
   "file_extension": ".py",
   "mimetype": "text/x-python",
   "name": "python",
   "nbconvert_exporter": "python",
   "pygments_lexer": "ipython2",
   "version": "2.7.6"
  }
 },
 "nbformat": 4,
 "nbformat_minor": 5
}
