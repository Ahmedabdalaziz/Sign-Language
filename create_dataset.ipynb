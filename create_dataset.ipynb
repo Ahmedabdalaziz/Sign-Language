{
 "cells": [
  {
   "cell_type": "code",
   "id": "initial_id",
   "metadata": {
    "collapsed": true,
    "ExecuteTime": {
     "end_time": "2024-05-13T20:06:57.424321Z",
     "start_time": "2024-05-13T20:06:39.301696Z"
    }
   },
   "source": [
    "import os \n",
    "import pickle\n",
    "import mediapipe as mp\n",
    "import cv2\n",
    "\n",
    "mp_hands = mp.solutions.hands\n",
    "mp_drawing = mp.solutions.drawing_utils\n",
    "mp_drawing_styles = mp.solutions.drawing_styles\n",
    "hands = mp_hands.Hands(static_image_mode=True ,min_detection_confidence=0.3)\n",
    "\n",
    "DATA_DIR = './data'\n",
    "\n",
    "data =[]\n",
    "labels =[]\n",
    "for dir_ in os.listdir(DATA_DIR):\n",
    "    for img_path in os.listdir(os.path.join(DATA_DIR, dir_)):\n",
    "        data_aux =[]\n",
    "        \n",
    "        x_ = []\n",
    "        y_ =[]\n",
    "        \n",
    "        img=cv2.imread(os.path.join(DATA_DIR, dir_,img_path))\n",
    "        img_rgb = cv2.cvtColor(img,cv2.COLOR_BGR2RGB)\n",
    "        \n",
    "        results = hands.process(img_rgb)\n",
    "        if results.multi_hand_landmarks :\n",
    "            for hand_landmarks in results.multi_hand_landmarks:\n",
    "                for i in range(len(hand_landmarks.landmark)):\n",
    "                    x_.append(hand_landmarks.landmark[i].x)\n",
    "                    y_.append(hand_landmarks.landmark[i].y)\n",
    "                    \n",
    "                for i in range(len(hand_landmarks.landmark)):\n",
    "                    x = hand_landmarks.landmark[i].x\n",
    "                    y = hand_landmarks.landmark[i].y\n",
    "                    data_aux.append(x-min(x_))\n",
    "                    data_aux.append(y-min(y_))\n",
    "                    \n",
    "            data.append(data_aux)\n",
    "            labels.append(dir_)\n",
    "f= open('data.pkl', 'wb')\n",
    "pickle.dump({'data': data, 'labels':labels }, f)\n",
    "f.close()"
   ],
   "outputs": [],
   "execution_count": 1
  }
 ],
 "metadata": {
  "kernelspec": {
   "display_name": "Python 3",
   "language": "python",
   "name": "python3"
  },
  "language_info": {
   "codemirror_mode": {
    "name": "ipython",
    "version": 2
   },
   "file_extension": ".py",
   "mimetype": "text/x-python",
   "name": "python",
   "nbconvert_exporter": "python",
   "pygments_lexer": "ipython2",
   "version": "2.7.6"
  }
 },
 "nbformat": 4,
 "nbformat_minor": 5
}
